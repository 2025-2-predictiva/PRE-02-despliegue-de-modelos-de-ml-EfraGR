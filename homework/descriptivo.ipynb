{
 "cells": [
  {
   "cell_type": "code",
   "execution_count": null,
   "id": "35ba0f5d",
   "metadata": {},
   "outputs": [],
   "source": [
    "#%%\n",
    "import pandas as pd  #  type: ignore\n",
    "\n",
    "df = pd.read_csv(\"../files/input/house_data.csv\")\n",
    "\n",
    "features = df[\n",
    "    [\n",
    "        \"bedrooms\",\n",
    "        \"bathrooms\",\n",
    "        \"sqft_living\",\n",
    "        \"sqft_lot\",\n",
    "        \"floors\",\n",
    "        \"waterfront\",\n",
    "        \"condition\",\n",
    "    ]\n",
    "]\n",
    "\n",
    "target = df[[\"price\"]]\n",
    "target"
   ]
  }
 ],
 "metadata": {
  "kernelspec": {
   "display_name": ".venv",
   "language": "python",
   "name": "python3"
  },
  "language_info": {
   "name": "python",
   "version": "3.13.0"
  }
 },
 "nbformat": 4,
 "nbformat_minor": 5
}
